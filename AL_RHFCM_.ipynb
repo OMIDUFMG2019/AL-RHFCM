{
  "cells": [
    {
      "cell_type": "code",
      "execution_count": null,
      "metadata": {
        "colab": {
          "base_uri": "https://localhost:8080/"
        },
        "id": "xj07JoZtsMYv",
        "outputId": "634acee6-3bd9-4d72-c1f2-f530f22130c4"
      },
      "outputs": [
        {
          "name": "stdout",
          "output_type": "stream",
          "text": [
            "Collecting git+https://github.com/PYFTS/pyFTS\n",
            "  Cloning https://github.com/PYFTS/pyFTS to /tmp/pip-req-build-43z4y4_1\n",
            "  Running command git clone --filter=blob:none --quiet https://github.com/PYFTS/pyFTS /tmp/pip-req-build-43z4y4_1\n",
            "  Resolved https://github.com/PYFTS/pyFTS to commit 4e0ee7cdd9fc9a8ac9170c0c3496536ef0378cb7\n",
            "  Preparing metadata (setup.py) ... \u001b[?25ldone\n",
            "\u001b[?25hRequirement already satisfied: matplotlib in ./anaconda3/lib/python3.12/site-packages (from pyFTS==1.7) (3.10.0)\n",
            "Requirement already satisfied: numpy in ./anaconda3/lib/python3.12/site-packages (from pyFTS==1.7) (1.26.4)\n",
            "Requirement already satisfied: pandas in ./anaconda3/lib/python3.12/site-packages (from pyFTS==1.7) (2.2.3)\n",
            "Requirement already satisfied: contourpy>=1.0.1 in ./anaconda3/lib/python3.12/site-packages (from matplotlib->pyFTS==1.7) (1.3.1)\n",
            "Requirement already satisfied: cycler>=0.10 in ./anaconda3/lib/python3.12/site-packages (from matplotlib->pyFTS==1.7) (0.11.0)\n",
            "Requirement already satisfied: fonttools>=4.22.0 in ./anaconda3/lib/python3.12/site-packages (from matplotlib->pyFTS==1.7) (4.55.3)\n",
            "Requirement already satisfied: kiwisolver>=1.3.1 in ./anaconda3/lib/python3.12/site-packages (from matplotlib->pyFTS==1.7) (1.4.8)\n",
            "Requirement already satisfied: packaging>=20.0 in ./anaconda3/lib/python3.12/site-packages (from matplotlib->pyFTS==1.7) (24.2)\n",
            "Requirement already satisfied: pillow>=8 in ./anaconda3/lib/python3.12/site-packages (from matplotlib->pyFTS==1.7) (11.0.0)\n",
            "Requirement already satisfied: pyparsing>=2.3.1 in ./anaconda3/lib/python3.12/site-packages (from matplotlib->pyFTS==1.7) (3.2.0)\n",
            "Requirement already satisfied: python-dateutil>=2.7 in ./anaconda3/lib/python3.12/site-packages (from matplotlib->pyFTS==1.7) (2.9.0.post0)\n",
            "Requirement already satisfied: pytz>=2020.1 in ./anaconda3/lib/python3.12/site-packages (from pandas->pyFTS==1.7) (2024.1)\n",
            "Requirement already satisfied: tzdata>=2022.7 in ./anaconda3/lib/python3.12/site-packages (from pandas->pyFTS==1.7) (2023.3)\n",
            "Requirement already satisfied: six>=1.5 in ./anaconda3/lib/python3.12/site-packages (from python-dateutil>=2.7->matplotlib->pyFTS==1.7) (1.16.0)\n"
          ]
        }
      ],
      "source": [
        "!pip3 install -U git+https://github.com/PYFTS/pyFTS"
      ]
    },
    {
      "cell_type": "code",
      "execution_count": null,
      "metadata": {
        "id": "pMvIgzkBLi-6",
        "collapsed": true
      },
      "outputs": [],
      "source": [
        "# Importing libraries\n",
        "import numpy as np\n",
        "import os\n",
        "import matplotlib.pyplot as plt\n",
        "import seaborn as sns\n",
        "import pandas as pd\n",
        "from math import e,sqrt\n",
        "from pyFTS.fcm import Activations\n",
        "from pyFTS.models import hofts\n",
        "from numpy.linalg import svd\n",
        "from pyFTS.fcm import fts as fcm_fts\n",
        "from pyFTS.partitioners import Grid\n",
        "from pyFTS.common import Util\n",
        "from pyFTS.common import Membership as mf\n",
        "from scipy.optimize import least_squares\n",
        "from scipy.optimize import leastsq\n",
        "from pyFTS.benchmarks import Measures\n",
        "import math\n",
        "import pdb\n",
        "import math\n",
        "from pyFTS.benchmarks import Measures\n",
        "from sklearn.metrics import mean_absolute_error\n",
        "from sklearn.metrics import mean_squared_error\n",
        "from sklearn.metrics import mean_absolute_percentage_error\n",
        "from sklearn.metrics import r2_score\n",
        "from sklearn.ensemble import RandomForestClassifier\n",
        "from sklearn.metrics import classification_report\n",
        "from sklearn.metrics import accuracy_score\n"
      ]
    },
    {
      "cell_type": "code",
      "execution_count": null,
      "metadata": {
        "id": "xulE9zOMLs5C"
      },
      "outputs": [],
      "source": [
        "#defining FCM\n",
        "class FuzzyCognitiveMap(object):\n",
        "    def __init__(self, **kwargs):\n",
        "        super(FuzzyCognitiveMap, self).__init__()\n",
        "        self.order = kwargs.get('order',1)\n",
        "        self.concepts = kwargs.get('partitioner',None)\n",
        "        self.weights = []\n",
        "        self.bias=[]\n",
        "        self.activation_function = kwargs.get('activation_function', Activations.sigmoid)\n",
        "        #self.activation_function=softplus\n",
        "\n",
        "        #self.concepts = self.partitioner\n",
        "\n",
        "\n",
        "    def activate(self, memberships):\n",
        "        dot_products = np.zeros(len(self.concepts))\n",
        "        for k in np.arange(0, self.order):\n",
        "            dot_products += np.dot(np.array(memberships[k]).T, self.weights[k])+(self.bias[k])\n",
        "        return self.activation_function( dot_products )\n"
      ]
    },
    {
      "cell_type": "code",
      "execution_count": null,
      "metadata": {
        "id": "ueLS-0HfuXw0"
      },
      "outputs": [],
      "source": [
        "# Function for the last layer for least squares\n",
        "def func(values, *arg):\n",
        "\n",
        "    # values -> predicted values\n",
        "\n",
        "    #print(values.shape)\n",
        "    if len(values.shape) == 1:\n",
        "      n_coefs = values.shape[0] + 1\n",
        "      #return arg[0] + np.sum([values[i-1] * arg[i] for i in np.arange(1,n_coefs)])\n",
        "      ret = 0\n",
        "    else:\n",
        "      n_coefs = values.shape[0] + 1\n",
        "      n_inst = values.shape[1]\n",
        "      ret = np.zeros(n_inst)\n",
        "    for k in range(1, n_coefs):\n",
        "      ret = ret + arg[k] * values[k-1]\n",
        "\n",
        "    ret = ret + arg[0]\n",
        "\n",
        "    return ret"
      ]
    },
    {
      "cell_type": "code",
      "execution_count": null,
      "metadata": {
        "id": "dRsjAAzhL0ot"
      },
      "outputs": [],
      "source": [
        "#%%debug\n",
        "# RHFCM Model\n",
        "class FCM_FTS(hofts.HighOrderFTS):\n",
        "\n",
        "    def __init__(self, **kwargs):\n",
        "        super(FCM_FTS, self).__init__(**kwargs)\n",
        "\n",
        "\n",
        "        num_concepts = self.partitioner.partitions # Number of concepts\n",
        "\n",
        "        self.num_concepts = kwargs.get('num_concepts', 4)\n",
        "\n",
        "        self.num_fcms = kwargs.get('num_fcms', 2)   # The number of sub-reservoir (layers)\n",
        "\n",
        "        self.loss_function = kwargs.get('loss', func) # Loss function for OLS method\n",
        "\n",
        "        self.orderMax = kwargs.get('orderMax', 4)\n",
        "\n",
        "        #print(self.orderMax)\n",
        "\n",
        "        #self.partitioner = kwargs.get('partitioner',Grid.GridPartitioner(data=data, npart=self.num_concepts, mf=mf.trimf))\n",
        "\n",
        "        #self.partitioner = Grid.GridPartitioner(data=data, npart=self.num_concepts, mf=mf.trimf)\n",
        "\n",
        "        #print(self.partitioner)\n",
        "\n",
        "        #print(self.orderMax)\n",
        "\n",
        "\n",
        "        self.fcm = [] # Initialization of fcm (empty)\n",
        "\n",
        "        # Weight initialization\n",
        "        for k in range(self.num_fcms):\n",
        "          # np.random.seed(42+10*k+200)     # HERE\n",
        "          fcm_tmp = FuzzyCognitiveMap(**kwargs)\n",
        "          weights = np.random.uniform(-1, 1, size=(self.order,num_concepts, num_concepts))\n",
        "          specturalradius1=np.max(np.abs(np.linalg.eigvals(weights)))\n",
        "          fcm_tmp.weights = weights*0.5/specturalradius1\n",
        "          # np.random.seed(35+10*k+200)     # HERE\n",
        "          bias = np.random.uniform(-1, 1, size=(self.order,num_concepts))\n",
        "          U,S,VT=svd(bias) # Not square\n",
        "          specturalradius2=np.max(S)\n",
        "          fcm_tmp.bias=bias*0.5/specturalradius2    # epsilon = 0.5\n",
        "          self.fcm.append(fcm_tmp)\n",
        "\n",
        "\n",
        "        # Coefficients\n",
        "        self.theta = np.random.rand(self.num_fcms + 1) # Initialization for least squares\n",
        "\n",
        "\n",
        "    def forecast(self, data, **kwargs):\n",
        "        y1 = []\n",
        "\n",
        "        midpoints = np.array([fset.centroid for fset in self.partitioner])\n",
        "\n",
        "\n",
        "        #if self.order == 3:\n",
        "        #  pdb.set_trace()\n",
        "        #print('Number of layers: ')\n",
        "        #print(type(self.fcm))\n",
        "        #print(np.shape(self.fcm))\n",
        "        #print(self.fcm[0].weights)\n",
        "        #print(self.fcm[0].concepts)\n",
        "\n",
        "\n",
        "        #for t in np.arange(self.order, len(data)+1):   # Sweeping all data points depending of the order ------ CHANGE VARIABLE HERE!!!!!!\n",
        "        for t in np.arange(self.orderMax, len(data)+1):   # Sweeping all data points depending of the order ------ CHANGE VARIABLE HERE!!!!!!\n",
        "\n",
        "            sample = data[t - self.order : t]\n",
        "\n",
        "            fuzzyfied = self.partitioner.fuzzyfy(sample, mode='vector')\n",
        "\n",
        "            # Evaluate FCMs\n",
        "\n",
        "            forecasts = []\n",
        "\n",
        "            for fcm in self.fcm:\n",
        "              activation=fcm.activate(fuzzyfied)\n",
        "              forecasts.append(np.dot(midpoints, activation)/np.nanmax([1, np.sum(activation)]))    # Forecasting\n",
        "\n",
        "            # Combine the results\n",
        "\n",
        "            #print(forecasts)\n",
        "\n",
        "            result = self.loss_function(np.array(forecasts), *self.theta)\n",
        "\n",
        "            if str(result) == 'nan' or result == np.nan or result == np.Inf:\n",
        "               print('error')\n",
        "\n",
        "            y1.append(result)\n",
        "\n",
        "        return y1\n",
        "\n",
        "    def run_fcm(self, fcm, data):\n",
        "        ret = []\n",
        "\n",
        "        midpoints = np.array([fset.centroid for fset in self.partitioner])\n",
        "        #for t in np.arange(self.order, len(data)+1):   # Sweeping all data points. ------ CHANGE VARIABLE HERE!!!!!!\n",
        "        for t in np.arange(self.orderMax, len(data)+1):   # Sweeping all data points. ------ CHANGE VARIABLE HERE!!!!!!\n",
        "            sample = data[t - self.order : t]\n",
        "            fuzzyfied = self.partitioner.fuzzyfy(sample, mode='vector')\n",
        "            activation = fcm.activate(fuzzyfied)\n",
        "            final = np.dot(midpoints, activation)/np.nanmax([1, np.sum(activation)])\n",
        "            ret.append(final)\n",
        "        return ret\n",
        "\n",
        "    def outputEstimation(self, data, **kwargs):\n",
        "        #from scipy.optimize import curve_fit, least_squares, minimize, leastsq\n",
        "        from scipy.optimize import leastsq\n",
        "        from sklearn.linear_model import Ridge\n",
        "        from sklearn import linear_model\n",
        "\n",
        "        outputs = []\n",
        "\n",
        "        for model in self.fcm:\n",
        "          outputs.append(self.run_fcm(model, data)[:-1])\n",
        "          #print(outputs)\n",
        "        #OLS\n",
        "\n",
        "        #f = lambda coef, y, x: self.loss_function(x, *coef) - y    # x -> output of the subreservoir\n",
        "\n",
        "        # y -> real data\n",
        "        # x -> predicted values\n",
        "\n",
        "        #self.theta, flag = leastsq(f, x0 = self.theta, args=(data[self.order:], np.array(outputs)))\n",
        "        #print('Coefs OLS')\n",
        "        #print(self.theta)\n",
        "        return outputs\n"
      ]
    },
    {
      "cell_type": "code",
      "execution_count": null,
      "metadata": {
        "id": "yrjM-ZCPEnBT"
      },
      "outputs": [],
      "source": [
        "def trainRegression(data,outputs,orderMax, typeRegression):\n",
        "\n",
        "  from scipy.optimize import leastsq\n",
        "  from sklearn.linear_model import Ridge\n",
        "  from sklearn import linear_model\n",
        "\n",
        "  if typeRegression == 'Lasso':\n",
        "    ##### Lasso\n",
        "    from sklearn.linear_model import LassoCV\n",
        "\n",
        "    ##### Lasso\n",
        "    # Crossvalidation (Finding the best alpha)\n",
        "    resultsCV = LassoCV(cv=5, random_state=0).fit(np.array(outputs).T, data[orderMax:])\n",
        "    print(f'resultsCV.alpha_: {(resultsCV.alpha_)}')\n",
        "\n",
        "    lassoModel = linear_model.Lasso(alpha=resultsCV.alpha_)\n",
        "\n",
        "    lassoModel.fit(np.array(outputs).T, data[orderMax:])\n",
        "    tetha = np.concatenate((np.array([lassoModel.intercept_]),lassoModel.coef_))\n",
        "\n",
        "\n",
        "    # lassoModel = linear_model.Lasso(alpha=100000)\n",
        "    # lassoModel.fit(np.array(outputs).T, data[orderMax:])\n",
        "    # tetha = np.concatenate((np.array([lassoModel.intercept_]),lassoModel.coef_))\n",
        "\n",
        "  if typeRegression == 'Ridge':\n",
        "    ##### Ridge of regression\n",
        "    clf = Ridge(alpha=.1)\n",
        "    clf.fit(np.array(outputs).T, data[orderMax:])\n",
        "    tetha = np.concatenate((np.array([clf.intercept_]),clf.coef_))\n",
        "\n",
        "  return tetha"
      ]
    },
    {
      "cell_type": "code",
      "execution_count": null,
      "metadata": {
        "id": "nvUSWNJOVXgS"
      },
      "outputs": [],
      "source": [
        "def CalculateCoef(data, set_parts, set_orders, set_layers, orderMax):\n",
        "  train = data.values[:1500]\n",
        "\n",
        "  # train = df['load'].values[:6500]\n",
        "  #test = df['load'].values[:6500]\n",
        "  test = data.values[:500]\n",
        "  estimated_outputs_train = []\n",
        "  estimated_outputs_test=[]\n",
        "  for ii in set_parts:\n",
        "    for jj in set_orders:\n",
        "\n",
        "      for kk in set_layers:\n",
        "\n",
        "        partitioner = Grid.GridPartitioner(data=data, npart=ii, mf=mf.trimf)\n",
        "        model = FCM_FTS(partitioner=partitioner, order=jj, num_fcms= kk,\n",
        "                    activation_function=Activations.sigmoid,\n",
        "                    loss=func, orderMax=orderMax)\n",
        "\n",
        "        aux_train=model.outputEstimation(train)\n",
        "        aux_test=model.outputEstimation(test)\n",
        "        estimated_outputs_train = estimated_outputs_train + aux_train\n",
        "\n",
        "        estimated_outputs_test = estimated_outputs_test + aux_test\n",
        "\n",
        "  return estimated_outputs_train, model,estimated_outputs_test"
      ]
    },
    {
      "cell_type": "code",
      "execution_count": null,
      "metadata": {
        "colab": {
          "base_uri": "https://localhost:8080/"
        },
        "id": "pUgMkhceDiJh",
        "outputId": "e91cd09a-2e29-4045-f1e4-295603f0c032"
      },
      "outputs": [
        {
          "name": "stdout",
          "output_type": "stream",
          "text": [
            "resultsCV.alpha_: 52244.19650564911\n",
            "[-6.68758313e+04 -0.00000000e+00  0.00000000e+00  0.00000000e+00\n",
            " -3.83656394e-01  0.00000000e+00 -0.00000000e+00  0.00000000e+00\n",
            "  0.00000000e+00 -0.00000000e+00  0.00000000e+00 -7.30885240e+00\n",
            " -0.00000000e+00  0.00000000e+00 -1.46971822e+00  0.00000000e+00\n",
            " -0.00000000e+00 -0.00000000e+00 -0.00000000e+00  0.00000000e+00\n",
            "  0.00000000e+00 -0.00000000e+00  0.00000000e+00  9.26693105e+00\n",
            " -0.00000000e+00 -0.00000000e+00  0.00000000e+00 -1.86063401e+00\n",
            " -0.00000000e+00 -0.00000000e+00 -0.00000000e+00 -0.00000000e+00\n",
            " -0.00000000e+00  0.00000000e+00  0.00000000e+00 -0.00000000e+00\n",
            " -0.00000000e+00  2.61220001e+00  0.00000000e+00  2.66109914e+00\n",
            " -0.00000000e+00  0.00000000e+00 -0.00000000e+00  0.00000000e+00\n",
            "  0.00000000e+00  0.00000000e+00  0.00000000e+00 -0.00000000e+00\n",
            " -0.00000000e+00 -0.00000000e+00 -0.00000000e+00  0.00000000e+00\n",
            "  0.00000000e+00 -0.00000000e+00 -9.72927923e-01 -0.00000000e+00\n",
            " -0.00000000e+00 -0.00000000e+00  1.66603673e-01  0.00000000e+00\n",
            "  0.00000000e+00]\n"
          ]
        }
      ],
      "source": [
        "# Malaysia load dataset\n",
        "df=pd.read_csv('https://query.data.world/s/e5arbthdytod3m7wfcg7gmtluh3wa5', sep=';')\n",
        "# data = df['load'].values[:8760]\n",
        "data=df['load']\n",
        "\n",
        "\n",
        "train = df['load'].values[:1500]\n",
        "\n",
        "# # train = df['load'].values[:6500]\n",
        "# #test = df['load'].values[:6500]\n",
        "test = df['load'].values[:500]\n",
        "\n",
        "\n",
        "# Hyperparameters\n",
        "#set_parts = [3,4,5,6]\n",
        "#set_orders = [2,3,4,5]\n",
        "\n",
        "set_parts = [3,4]\n",
        "set_orders = [2,3]\n",
        "\n",
        "#numLayers =40\n",
        "set_layers = [5,10]\n",
        "orderMax = np.max(set_orders)\n",
        "\n",
        "# model = []\n",
        "#\n",
        "#estimated_outputs_train, model,estimated_outputs_test = CalculateCoef(data, set_parts, set_orders, numLayers, orderMax)\n",
        "estimated_outputs_train, model,estimated_outputs_test = CalculateCoef(data, set_parts, set_orders, set_layers, orderMax)\n",
        "\n",
        "\n",
        "lambdas = trainRegression(train,estimated_outputs_train,orderMax=orderMax, typeRegression='Lasso')\n",
        "\n",
        "print(lambdas)\n",
        "\n",
        "\n"
      ]
    },
    {
      "cell_type": "code",
      "execution_count": null,
      "metadata": {
        "colab": {
          "base_uri": "https://localhost:8080/"
        },
        "id": "eJ01AVtgDMnc",
        "outputId": "2305f950-b2cb-40be-d0a1-dc13f8cb29c5"
      },
      "outputs": [
        {
          "data": {
            "text/plain": [
              "(60, 497)"
            ]
          },
          "execution_count": 10,
          "metadata": {},
          "output_type": "execute_result"
        }
      ],
      "source": [
        "np.shape(estimated_outputs_test)"
      ]
    },
    {
      "cell_type": "code",
      "execution_count": null,
      "metadata": {
        "id": "tXZhc8J1NGRF"
      },
      "outputs": [],
      "source": [
        "# theta[0] + theta[1]*x[0] + theta[2]*x[1]\n",
        "\n",
        "y_pred=lambdas[0]\n",
        "for i in range(len(estimated_outputs_test)):\n",
        "  y_pred=y_pred+lambdas[i+1]*np.array(estimated_outputs_test[i])\n",
        "\n",
        "\n"
      ]
    },
    {
      "cell_type": "code",
      "execution_count": null,
      "metadata": {
        "id": "QQ5y0QSSKl_Q"
      },
      "outputs": [],
      "source": [
        "\n",
        "test = df['load'].values[orderMax:500]\n",
        "rmse = round(Measures.rmse(test,y_pred),3)"
      ]
    },
    {
      "cell_type": "code",
      "execution_count": null,
      "metadata": {
        "colab": {
          "base_uri": "https://localhost:8080/"
        },
        "id": "dSXvqXpNOB7s",
        "outputId": "0b440539-1a78-46ef-e028-fba2f6366029"
      },
      "outputs": [
        {
          "data": {
            "text/plain": [
              "2447.481"
            ]
          },
          "execution_count": 13,
          "metadata": {},
          "output_type": "execute_result"
        }
      ],
      "source": [
        "rmse"
      ]
    },
    {
      "cell_type": "code",
      "execution_count": null,
      "metadata": {
        "colab": {
          "base_uri": "https://localhost:8080/",
          "height": 296
        },
        "id": "d1rbRhhVfnB6",
        "outputId": "6a238122-118e-4902-d317-0ca263a4f47c"
      },
      "outputs": [
        {
          "data": {
            "image/png": "[encoded data removed]",
            "text/plain": [
              "<Figure size 1500x300 with 1 Axes>"
            ]
          },
          "metadata": {},
          "output_type": "display_data"
        }
      ],
      "source": [
        "import matplotlib.pyplot as plt\n",
        "fig, ax = plt.subplots(nrows=1, ncols=1, figsize=[15, 3])\n",
        "ax.plot(y_pred,label='predicted')\n",
        "ax.plot(test,label='original')\n",
        "handles, labels = ax.get_legend_handles_labels()\n",
        "lgd = ax.legend(handles, labels, loc=2, bbox_to_anchor=(1, 1))\n",
        "plt.show()"
      ]
    },
    {
      "cell_type": "markdown",
      "metadata": {
        "id": "LJSwiBn2hQYF"
      },
      "source": [
        "# Sliding window cross validation"
      ]
    },
    {
      "cell_type": "code",
      "execution_count": null,
      "metadata": {
        "id": "Mu_CrQdLhYmA"
      },
      "outputs": [],
      "source": [
        "import math\n",
        "def cal_nrmse(rmse, y):\n",
        "    x = max(y)-min(y)\n",
        "    return (rmse/x)\n",
        "def sliding_window(data):\n",
        "  result = {\n",
        "         \"window\": [],\n",
        "         \"rmse\": [],\n",
        "         \"mape\": [],\n",
        "         \"mae\": [],\n",
        "         \"nrmse\": []\n",
        "\n",
        "    }\n",
        "  #set_parts = [3,4,5,6,7,8,9,10,20]\n",
        "  #set_orders = [2,3,4,5,6]\n",
        "\n",
        "  set_parts = [3,4,5,7,10]\n",
        "  set_orders = [2,3,4,5]\n",
        "\n",
        "  set_layers = [5,10,20,40,60]\n",
        "  #numLayers =5\n",
        "  orderMax = np.max(set_orders)\n",
        "  for  count,train, test in Util.sliding_window(data, windowsize=2000, train=0.8, increment_rate=0.2):\n",
        "    print(f'training window {(count)}')\n",
        "\n",
        "    estimated_outputs_train = []\n",
        "    estimated_outputs_test=[]\n",
        "    for ii in set_parts:\n",
        "      for jj in set_orders:\n",
        "\n",
        "        for kk in set_layers:\n",
        "\n",
        "          partitioner = Grid.GridPartitioner(data=train, npart=ii, mf=mf.trimf)\n",
        "          model = FCM_FTS(partitioner=partitioner, order=jj, num_fcms=kk,\n",
        "                        activation_function=Activations.relu,\n",
        "                        loss=func, orderMax=orderMax)\n",
        "\n",
        "          aux_train=model.outputEstimation(train)\n",
        "          aux_test=model.outputEstimation(test)\n",
        "          estimated_outputs_train = estimated_outputs_train + aux_train\n",
        "\n",
        "          estimated_outputs_test = estimated_outputs_test + aux_test\n",
        "\n",
        "    lambdas = trainRegression(train,estimated_outputs_train,orderMax=orderMax, typeRegression='Lasso')\n",
        "    print(f'lambdas:{(lambdas)}')\n",
        "\n",
        "    y_pred=lambdas[0]\n",
        "    for i in range(len(estimated_outputs_test)):\n",
        "      y_pred=y_pred+lambdas[i+1]*np.array(estimated_outputs_test[i])\n",
        "\n",
        "\n",
        "    original=test[orderMax:]\n",
        "    forecast=y_pred\n",
        "    mae = round(mean_absolute_error(original,forecast),3)\n",
        "    rmse = round(Measures.rmse(original,forecast),3)\n",
        "    mape = round(Measures.mape(original,forecast),3)\n",
        "    nrmse = round(cal_nrmse(rmse, original),3)\n",
        "\n",
        "    result[\"rmse\"].append(rmse)\n",
        "    result[\"nrmse\"].append(nrmse)\n",
        "    result[\"mape\"].append(mape)\n",
        "    result[\"mae\"].append(mae)\n",
        "    result[\"window\"].append(count)\n",
        "  measures = pd.DataFrame(result)\n",
        "  return measures"
      ]
    },
    {
      "cell_type": "code",
      "execution_count": null,
      "metadata": {
        "id": "64odTUXLhYo0"
      },
      "outputs": [],
      "source": [
        "df=pd.read_csv('/home/omid-orang/omid/AL-RHFCM/Datasets//DEOK_hourly.csv')\n",
        "data = df['DEOK_MW'].values[:8000]\n",
        "for experiment in range(0,1):\n",
        "    print('n_experiment is:', experiment)\n",
        "    result_large_resrevoir =  sliding_window(data=data)"
      ]
    },
    {
      "cell_type": "code",
      "execution_count": null,
      "metadata": {
        "id": "fa7hgnSdng0j",
        "outputId": "080fecee-4b90-4f75-eaae-12dc77de8e8e"
      },
      "outputs": [
        {
          "name": "stdout",
          "output_type": "stream",
          "text": [
            "    window     rmse    mape      mae  nrmse\n",
            "0        0   78.974   2.332   61.033  0.061\n",
            "1      200   77.210   2.242   57.437  0.062\n",
            "2      400   71.008   2.049   52.509  0.056\n",
            "3      600   75.712   2.084   52.912  0.056\n",
            "4      800  283.147   3.929  130.931  0.103\n",
            "5     1000  615.018  10.219  395.315  0.230\n",
            "6     1200  150.184   3.370  111.559  0.061\n",
            "7     1400  101.136   2.423   76.482  0.040\n",
            "8     1600  197.715   2.975  104.966  0.063\n",
            "9     1800  218.015   3.454  132.097  0.071\n",
            "10    2000  156.562   2.783  102.802  0.051\n",
            "11    2200  144.479   2.541   94.422  0.048\n",
            "12    2400  130.617   2.249   84.218  0.046\n",
            "13    2600  151.960   2.389   86.103  0.049\n",
            "14    2800  136.077   2.186   73.827  0.044\n",
            "15    3000   94.525   1.916   60.686  0.034\n",
            "16    3200  113.341   2.832   79.807  0.046\n",
            "17    3400  116.347   2.948   84.460  0.046\n",
            "18    3600   96.240   2.316   66.060  0.039\n",
            "19    3800   93.739   2.566   69.926  0.045\n",
            "20    4000   93.629   2.517   68.297  0.045\n",
            "21    4200   88.193   2.440   64.529  0.040\n",
            "22    4400   86.274   2.418   62.769  0.073\n",
            "23    4600   81.385   2.380   60.368  0.064\n",
            "24    4800   82.505   2.390   60.008  0.064\n",
            "25    5000   79.356   2.041   54.280  0.045\n",
            "26    5200   86.588   2.099   57.804  0.052\n",
            "27    5400   93.824   2.250   64.785  0.062\n",
            "28    5600   97.615   2.378   70.555  0.076\n",
            "29    5800  100.121   2.289   69.940  0.072\n",
            "30    6000   97.810   2.166   68.357  0.069\n"
          ]
        }
      ],
      "source": [
        "print(result_large_resrevoir)"
      ]
    },
    {
      "cell_type": "code",
      "execution_count": null,
      "metadata": {
        "id": "mM_7mpbddU0n"
      },
      "outputs": [],
      "source": [
        "result_large_resrevoir.to_csv('/home/omid-orang/AL-RHFCM/DEOK/result_LR-HFCM.csv')"
      ]
    },
    {
      "cell_type": "code",
      "execution_count": null,
      "metadata": {
        "id": "MV1ryG3gmav1"
      },
      "outputs": [],
      "source": [
        "import statistics\n",
        "final_result = {\n",
        "     \"rmse\": [],\n",
        "     \"mae\": [],\n",
        "     \"nrmse\": [],\n",
        "    \"mape\": []\n",
        "}\n",
        "\n",
        "measures = result_large_resrevoir\n",
        "\n",
        "rmse = round(statistics.mean(measures.loc[:,'rmse']),3)\n",
        "nrmse = round(statistics.mean(measures.loc[:,'nrmse']),3)\n",
        "mae = round(statistics.mean(measures.loc[:,'mae']),3)\n",
        "mape = round(statistics.mean(measures.loc[:,'mape']),3)\n",
        "\n",
        "\n",
        "final_result[\"rmse\"].append(rmse)\n",
        "final_result[\"nrmse\"].append(nrmse)\n",
        "final_result[\"mae\"].append(mae)\n",
        "final_result[\"mape\"].append(mape)\n",
        "\n"
      ]
    },
    {
      "cell_type": "code",
      "execution_count": null,
      "metadata": {
        "id": "VmDTtR-0hYrl",
        "outputId": "5e63aa87-0a66-4be2-9ecd-a8ad9c14d98b"
      },
      "outputs": [
        {
          "name": "stdout",
          "output_type": "stream",
          "text": [
            "      rmse     mae  nrmse   mape\n",
            "0  131.913  86.427  0.062  2.747\n"
          ]
        }
      ],
      "source": [
        "final=pd.DataFrame(final_result)\n",
        "print(final)"
      ]
    }
  ],
  "metadata": {
    "colab": {
      "provenance": []
    },
    "kernelspec": {
      "display_name": "Python [conda env:base] *",
      "language": "python",
      "name": "conda-base-py"
    },
    "language_info": {
      "codemirror_mode": {
        "name": "ipython",
        "version": 3
      },
      "file_extension": ".py",
      "mimetype": "text/x-python",
      "name": "python",
      "nbconvert_exporter": "python",
      "pygments_lexer": "ipython3",
      "version": "3.12.7"
    }
  },
  "nbformat": 4,
  "nbformat_minor": 0
}